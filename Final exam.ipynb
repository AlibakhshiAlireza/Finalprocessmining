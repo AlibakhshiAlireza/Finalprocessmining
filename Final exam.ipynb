{
  "cells": [
    {
      "cell_type": "code",
      "execution_count": null,
      "metadata": {
        "id": "GbUxe9dRfnKm"
      },
      "outputs": [],
      "source": [
        "import numpy as np\n",
        "import pandas as pd "
      ]
    },
    {
      "cell_type": "code",
      "execution_count": null,
      "metadata": {
        "id": "pBpodRwdf0dM"
      },
      "outputs": [],
      "source": [
        "trace_table = pd.read_excel(\"D:/Downloads/Book2.xlsx\")"
      ]
    },
    {
      "cell_type": "code",
      "execution_count": null,
      "metadata": {
        "id": "nEc6bri4gG83"
      },
      "outputs": [],
      "source": [
        "trace_dic = {}\n",
        "for i,j in zip (trace_table['Trace'],trace_table['Count']):\n",
        "  trace_dic[i] = j"
      ]
    },
    {
      "cell_type": "markdown",
      "metadata": {
        "id": "SWqwDmb2w9J1"
      },
      "source": [
        "#HW4 Calc"
      ]
    },
    {
      "cell_type": "code",
      "execution_count": null,
      "metadata": {
        "colab": {
          "base_uri": "https://localhost:8080/"
        },
        "id": "pb4aEBqrtElT",
        "outputId": "e8431d3d-2cf5-43f4-b7ca-0b7899d8f2e2"
      },
      "outputs": [
        {
          "name": "stdout",
          "output_type": "stream",
          "text": [
            "0\n"
          ]
        }
      ],
      "source": [
        "n = []\n",
        "for i in trace_dic:\n",
        "  l = i.count(\"II\")\n",
        "  p = l * trace_dic[i]\n",
        "  n.append(p)\n",
        "\n",
        "print(sum(n))"
      ]
    },
    {
      "cell_type": "code",
      "execution_count": null,
      "metadata": {
        "id": "B_zgAC6m1Buj"
      },
      "outputs": [],
      "source": [
        "HW4DF = pd.DataFrame({\"Index LOL\":['A','B','C','D','E']})"
      ]
    },
    {
      "cell_type": "code",
      "execution_count": null,
      "metadata": {
        "id": "FIltvSIW6NDg"
      },
      "outputs": [],
      "source": [
        "HW4DF['A'] = \"\"\n",
        "HW4DF['B'] = \"\"\n",
        "HW4DF['C'] = \"\"\n",
        "HW4DF['D'] = \"\"\n",
        "HW4DF['E'] = \"\""
      ]
    },
    {
      "cell_type": "code",
      "execution_count": null,
      "metadata": {
        "id": "FXO8Fu2jMUl2"
      },
      "outputs": [],
      "source": [
        "lis = list(['A','B','C','D','E'])"
      ]
    },
    {
      "cell_type": "markdown",
      "metadata": {
        "id": "2fqGFuDB6NDl"
      },
      "source": [
        "Dependency count"
      ]
    },
    {
      "cell_type": "code",
      "execution_count": null,
      "metadata": {
        "id": "6Q3qqTR46NDn"
      },
      "outputs": [],
      "source": [
        "dx_dic = {}\n",
        "for col in HW4DF.columns:\n",
        "    dx_dic[col] = HW4DF.columns.get_loc(col)"
      ]
    },
    {
      "cell_type": "code",
      "execution_count": null,
      "metadata": {
        "id": "SkkHiGOjMcDR"
      },
      "outputs": [],
      "source": [
        "PP = {}\n",
        "for k in lis:\n",
        "  for o in lis:\n",
        "    n = []\n",
        "    m = k+o\n",
        "    for i in trace_dic:\n",
        "      if ((k == o) and (i.count(m) != 0)):\n",
        "        l = i.count(o) - 1\n",
        "        p = l * trace_dic[i]\n",
        "        n.append(p)\n",
        "      else:\n",
        "        l = i.count(m)\n",
        "        p = l * trace_dic[i]\n",
        "        n.append(p)\n",
        "    v = int(np.where(HW4DF == k)[0])\n",
        "    x = dx_dic[o]\n",
        "    b = int(sum(n))\n",
        "    HW4DF.iloc[v,x] = int(b)\n",
        "    PP[m] = sum(n)"
      ]
    },
    {
      "cell_type": "code",
      "execution_count": null,
      "metadata": {
        "id": "nl_iArsw5O4C",
        "outputId": "2783f9ae-05e2-4a32-8f30-af7a9f8a5591"
      },
      "outputs": [
        {
          "data": {
            "text/plain": [
              "{'AA': 0,\n",
              " 'AB': 90,\n",
              " 'AC': 70,\n",
              " 'AD': 0,\n",
              " 'AE': 0,\n",
              " 'BA': 0,\n",
              " 'BB': 0,\n",
              " 'BC': 150,\n",
              " 'BD': 40,\n",
              " 'BE': 50,\n",
              " 'CA': 0,\n",
              " 'CB': 90,\n",
              " 'CC': 0,\n",
              " 'CD': 40,\n",
              " 'CE': 110,\n",
              " 'DA': 0,\n",
              " 'DB': 60,\n",
              " 'DC': 20,\n",
              " 'DD': 0,\n",
              " 'DE': 0,\n",
              " 'EA': 0,\n",
              " 'EB': 0,\n",
              " 'EC': 0,\n",
              " 'ED': 0,\n",
              " 'EE': 0}"
            ]
          },
          "execution_count": 10,
          "metadata": {},
          "output_type": "execute_result"
        }
      ],
      "source": [
        "PP"
      ]
    },
    {
      "cell_type": "code",
      "execution_count": null,
      "metadata": {
        "colab": {
          "base_uri": "https://localhost:8080/",
          "height": 332
        },
        "id": "HagWsg3GfeRS",
        "outputId": "3d10c0c3-b119-41e0-cde9-8389fed95d72"
      },
      "outputs": [
        {
          "data": {
            "text/html": [
              "<div>\n",
              "<style scoped>\n",
              "    .dataframe tbody tr th:only-of-type {\n",
              "        vertical-align: middle;\n",
              "    }\n",
              "\n",
              "    .dataframe tbody tr th {\n",
              "        vertical-align: top;\n",
              "    }\n",
              "\n",
              "    .dataframe thead th {\n",
              "        text-align: right;\n",
              "    }\n",
              "</style>\n",
              "<table border=\"1\" class=\"dataframe\">\n",
              "  <thead>\n",
              "    <tr style=\"text-align: right;\">\n",
              "      <th></th>\n",
              "      <th>Index LOL</th>\n",
              "      <th>A</th>\n",
              "      <th>B</th>\n",
              "      <th>C</th>\n",
              "      <th>D</th>\n",
              "      <th>E</th>\n",
              "    </tr>\n",
              "  </thead>\n",
              "  <tbody>\n",
              "    <tr>\n",
              "      <th>0</th>\n",
              "      <td>A</td>\n",
              "      <td>0</td>\n",
              "      <td>90</td>\n",
              "      <td>70</td>\n",
              "      <td>0</td>\n",
              "      <td>0</td>\n",
              "    </tr>\n",
              "    <tr>\n",
              "      <th>1</th>\n",
              "      <td>B</td>\n",
              "      <td>0</td>\n",
              "      <td>0</td>\n",
              "      <td>150</td>\n",
              "      <td>40</td>\n",
              "      <td>50</td>\n",
              "    </tr>\n",
              "    <tr>\n",
              "      <th>2</th>\n",
              "      <td>C</td>\n",
              "      <td>0</td>\n",
              "      <td>90</td>\n",
              "      <td>0</td>\n",
              "      <td>40</td>\n",
              "      <td>110</td>\n",
              "    </tr>\n",
              "    <tr>\n",
              "      <th>3</th>\n",
              "      <td>D</td>\n",
              "      <td>0</td>\n",
              "      <td>60</td>\n",
              "      <td>20</td>\n",
              "      <td>0</td>\n",
              "      <td>0</td>\n",
              "    </tr>\n",
              "    <tr>\n",
              "      <th>4</th>\n",
              "      <td>E</td>\n",
              "      <td>0</td>\n",
              "      <td>0</td>\n",
              "      <td>0</td>\n",
              "      <td>0</td>\n",
              "      <td>0</td>\n",
              "    </tr>\n",
              "  </tbody>\n",
              "</table>\n",
              "</div>"
            ],
            "text/plain": [
              "  Index LOL  A   B    C   D    E\n",
              "0         A  0  90   70   0    0\n",
              "1         B  0   0  150  40   50\n",
              "2         C  0  90    0  40  110\n",
              "3         D  0  60   20   0    0\n",
              "4         E  0   0    0   0    0"
            ]
          },
          "execution_count": 11,
          "metadata": {},
          "output_type": "execute_result"
        }
      ],
      "source": [
        "HW4DF"
      ]
    },
    {
      "cell_type": "markdown",
      "metadata": {
        "id": "_vV4HgbK6NDt"
      },
      "source": [
        "Dependency "
      ]
    },
    {
      "cell_type": "code",
      "execution_count": null,
      "metadata": {
        "id": "-Qbu2LMBUwOF"
      },
      "outputs": [],
      "source": [
        "for k in lis:\n",
        "  for q in lis:\n",
        "    m = k+q\n",
        "    b = q+k\n",
        "    t = PP[m]\n",
        "    o = PP[b]\n",
        "    #print(\"{},{}\".format(t,o))\n",
        "    ans = float(\"{:.2f}\".format(((t - o) / (t + o + 1))))\n",
        "    v = int(np.where(HW4DF == k)[0])\n",
        "    x = dx_dic[q]\n",
        "    HW4DF.iloc[v,x] = ans"
      ]
    },
    {
      "cell_type": "code",
      "execution_count": null,
      "metadata": {
        "colab": {
          "base_uri": "https://localhost:8080/",
          "height": 332
        },
        "id": "lcFa0OXWf0nA",
        "outputId": "d2979da1-986a-4ecf-bac6-b05575630bc0"
      },
      "outputs": [
        {
          "data": {
            "text/html": [
              "<div>\n",
              "<style scoped>\n",
              "    .dataframe tbody tr th:only-of-type {\n",
              "        vertical-align: middle;\n",
              "    }\n",
              "\n",
              "    .dataframe tbody tr th {\n",
              "        vertical-align: top;\n",
              "    }\n",
              "\n",
              "    .dataframe thead th {\n",
              "        text-align: right;\n",
              "    }\n",
              "</style>\n",
              "<table border=\"1\" class=\"dataframe\">\n",
              "  <thead>\n",
              "    <tr style=\"text-align: right;\">\n",
              "      <th></th>\n",
              "      <th>Index LOL</th>\n",
              "      <th>A</th>\n",
              "      <th>B</th>\n",
              "      <th>C</th>\n",
              "      <th>D</th>\n",
              "      <th>E</th>\n",
              "    </tr>\n",
              "  </thead>\n",
              "  <tbody>\n",
              "    <tr>\n",
              "      <th>0</th>\n",
              "      <td>A</td>\n",
              "      <td>0.0</td>\n",
              "      <td>0.99</td>\n",
              "      <td>0.99</td>\n",
              "      <td>0.0</td>\n",
              "      <td>0.0</td>\n",
              "    </tr>\n",
              "    <tr>\n",
              "      <th>1</th>\n",
              "      <td>B</td>\n",
              "      <td>-0.99</td>\n",
              "      <td>0.0</td>\n",
              "      <td>0.25</td>\n",
              "      <td>-0.2</td>\n",
              "      <td>0.98</td>\n",
              "    </tr>\n",
              "    <tr>\n",
              "      <th>2</th>\n",
              "      <td>C</td>\n",
              "      <td>-0.99</td>\n",
              "      <td>-0.25</td>\n",
              "      <td>0.0</td>\n",
              "      <td>0.33</td>\n",
              "      <td>0.99</td>\n",
              "    </tr>\n",
              "    <tr>\n",
              "      <th>3</th>\n",
              "      <td>D</td>\n",
              "      <td>0.0</td>\n",
              "      <td>0.2</td>\n",
              "      <td>-0.33</td>\n",
              "      <td>0.0</td>\n",
              "      <td>0.0</td>\n",
              "    </tr>\n",
              "    <tr>\n",
              "      <th>4</th>\n",
              "      <td>E</td>\n",
              "      <td>0.0</td>\n",
              "      <td>-0.98</td>\n",
              "      <td>-0.99</td>\n",
              "      <td>0.0</td>\n",
              "      <td>0.0</td>\n",
              "    </tr>\n",
              "  </tbody>\n",
              "</table>\n",
              "</div>"
            ],
            "text/plain": [
              "  Index LOL     A     B     C     D     E\n",
              "0         A   0.0  0.99  0.99   0.0   0.0\n",
              "1         B -0.99   0.0  0.25  -0.2  0.98\n",
              "2         C -0.99 -0.25   0.0  0.33  0.99\n",
              "3         D   0.0   0.2 -0.33   0.0   0.0\n",
              "4         E   0.0 -0.98 -0.99   0.0   0.0"
            ]
          },
          "execution_count": 13,
          "metadata": {},
          "output_type": "execute_result"
        }
      ],
      "source": [
        "HW4DF"
      ]
    },
    {
      "cell_type": "markdown",
      "metadata": {
        "id": "-7qzLsLf-k2k"
      },
      "source": [
        "Long Distance"
      ]
    },
    {
      "cell_type": "code",
      "execution_count": null,
      "metadata": {
        "id": "AShSd7mXCFy4"
      },
      "outputs": [],
      "source": [
        "i = \"AASANBSKANS\"\n",
        "#i.find(\"A\",3)\n",
        "p = i.count(\"A\")\n",
        "m = i.count(\"S\")\n",
        "main = 0\n",
        "count = 0\n",
        "for p in i:\n",
        "    if (p == \"A\" and count == 0):\n",
        "        count = count + 1\n",
        "    elif (p == \"A\" and count == 1):\n",
        "        count = 1\n",
        "    elif (p == \"S\" and count == 1):\n",
        "        count = 0 \n",
        "        main = main + 1"
      ]
    },
    {
      "cell_type": "code",
      "execution_count": null,
      "metadata": {
        "id": "AuaQaDoD6NDy",
        "outputId": "070fdc13-1c1c-40b2-ee9f-e350e85dff1f"
      },
      "outputs": [
        {
          "data": {
            "text/plain": [
              "3"
            ]
          },
          "execution_count": 18,
          "metadata": {},
          "output_type": "execute_result"
        }
      ],
      "source": [
        "main"
      ]
    },
    {
      "cell_type": "code",
      "execution_count": null,
      "metadata": {
        "id": "5CEqAycS-GST"
      },
      "outputs": [],
      "source": [
        "#incomplete\n",
        "longdistance = []\n",
        "for i in lis:\n",
        "  for k in lis:\n",
        "    bg = i+k\n",
        "    gb =k+i\n",
        "    for j in trace_dic:\n",
        "      if j.count(bg) != 0:\n",
        "        break\n",
        "      elif j.count(gb) != 0:\n",
        "        break\n",
        "      else:\n",
        "        kj = bg\n",
        "        jk = gb\n",
        "    longdistance.append(kj)\n",
        "    longdistance.append(jk)\n",
        "longdistance = list(np.unique(longdistance))"
      ]
    },
    {
      "cell_type": "code",
      "execution_count": null,
      "metadata": {
        "id": "lRncmbSRzovO",
        "outputId": "899c5df3-f8ba-4222-853f-dbfb06cd0cd4"
      },
      "outputs": [
        {
          "data": {
            "text/plain": [
              "['AA',\n",
              " 'AC',\n",
              " 'AD',\n",
              " 'AE',\n",
              " 'BB',\n",
              " 'BD',\n",
              " 'BE',\n",
              " 'CA',\n",
              " 'CC',\n",
              " 'CD',\n",
              " 'DA',\n",
              " 'DB',\n",
              " 'DC',\n",
              " 'DD',\n",
              " 'DE',\n",
              " 'EA',\n",
              " 'EB',\n",
              " 'ED',\n",
              " 'EE']"
            ]
          },
          "execution_count": 15,
          "metadata": {},
          "output_type": "execute_result"
        }
      ],
      "source": [
        "longdistance"
      ]
    },
    {
      "cell_type": "code",
      "execution_count": null,
      "metadata": {
        "id": "ho6o_l8l6yI5"
      },
      "outputs": [],
      "source": [
        "longey = {}\n",
        "for i in PP:\n",
        "  g = i[0]\n",
        "  n = i[1]\n",
        "  pp = []\n",
        "  for j in trace_dic:\n",
        "    main = 0\n",
        "    count = 0  \n",
        "    for p in j:\n",
        "        if (p == g and count == 0):\n",
        "            count = count + 1\n",
        "        elif (p == g and count == 1):\n",
        "            count = 1\n",
        "        elif (p == n and count == 1):\n",
        "            count = 0 \n",
        "            main = main + 1\n",
        "    ll = main * trace_dic[j]\n",
        "    pp.append(ll)\n",
        "  summ = sum(pp)\n",
        "  longey[i] = summ "
      ]
    },
    {
      "cell_type": "code",
      "execution_count": null,
      "metadata": {
        "id": "mCg-XV7g6ND1",
        "outputId": "59cddf49-b42f-482a-ab4f-0770d0a6a405"
      },
      "outputs": [
        {
          "data": {
            "text/html": [
              "<div>\n",
              "<style scoped>\n",
              "    .dataframe tbody tr th:only-of-type {\n",
              "        vertical-align: middle;\n",
              "    }\n",
              "\n",
              "    .dataframe tbody tr th {\n",
              "        vertical-align: top;\n",
              "    }\n",
              "\n",
              "    .dataframe thead th {\n",
              "        text-align: right;\n",
              "    }\n",
              "</style>\n",
              "<table border=\"1\" class=\"dataframe\">\n",
              "  <thead>\n",
              "    <tr style=\"text-align: right;\">\n",
              "      <th></th>\n",
              "      <th>Count</th>\n",
              "      <th>Trace</th>\n",
              "    </tr>\n",
              "  </thead>\n",
              "  <tbody>\n",
              "    <tr>\n",
              "      <th>0</th>\n",
              "      <td>50</td>\n",
              "      <td>ABCE</td>\n",
              "    </tr>\n",
              "    <tr>\n",
              "      <th>1</th>\n",
              "      <td>40</td>\n",
              "      <td>ACBE</td>\n",
              "    </tr>\n",
              "    <tr>\n",
              "      <th>2</th>\n",
              "      <td>30</td>\n",
              "      <td>ABCDBCE</td>\n",
              "    </tr>\n",
              "    <tr>\n",
              "      <th>3</th>\n",
              "      <td>20</td>\n",
              "      <td>ACBDBCE</td>\n",
              "    </tr>\n",
              "    <tr>\n",
              "      <th>4</th>\n",
              "      <td>10</td>\n",
              "      <td>ABCDCBE</td>\n",
              "    </tr>\n",
              "    <tr>\n",
              "      <th>5</th>\n",
              "      <td>10</td>\n",
              "      <td>ACBDCBDBCE</td>\n",
              "    </tr>\n",
              "  </tbody>\n",
              "</table>\n",
              "</div>"
            ],
            "text/plain": [
              "   Count       Trace\n",
              "0     50        ABCE\n",
              "1     40        ACBE\n",
              "2     30     ABCDBCE\n",
              "3     20     ACBDBCE\n",
              "4     10     ABCDCBE\n",
              "5     10  ACBDCBDBCE"
            ]
          },
          "execution_count": 18,
          "metadata": {},
          "output_type": "execute_result"
        }
      ],
      "source": [
        "trace_table"
      ]
    },
    {
      "cell_type": "code",
      "execution_count": null,
      "metadata": {
        "id": "5gvOfR0B6ND3",
        "outputId": "170ff36f-d4ce-48c8-c416-b50adfa80d70"
      },
      "outputs": [
        {
          "data": {
            "text/plain": [
              "{'AA': 0,\n",
              " 'AB': 160,\n",
              " 'AC': 160,\n",
              " 'AD': 70,\n",
              " 'AE': 160,\n",
              " 'BA': 0,\n",
              " 'BB': 0,\n",
              " 'BC': 160,\n",
              " 'BD': 80,\n",
              " 'BE': 160,\n",
              " 'CA': 0,\n",
              " 'CB': 120,\n",
              " 'CC': 0,\n",
              " 'CD': 80,\n",
              " 'CE': 160,\n",
              " 'DA': 0,\n",
              " 'DB': 80,\n",
              " 'DC': 80,\n",
              " 'DD': 0,\n",
              " 'DE': 70,\n",
              " 'EA': 0,\n",
              " 'EB': 0,\n",
              " 'EC': 0,\n",
              " 'ED': 0,\n",
              " 'EE': 0}"
            ]
          },
          "execution_count": 19,
          "metadata": {},
          "output_type": "execute_result"
        }
      ],
      "source": [
        "longey"
      ]
    },
    {
      "cell_type": "code",
      "execution_count": null,
      "metadata": {
        "id": "ws1CKnnM6ND3",
        "outputId": "9797502b-0e28-4b21-a93d-1ff817ad1e06"
      },
      "outputs": [
        {
          "data": {
            "text/plain": [
              "{'Index LOL': 0,\n",
              " 'A': 1,\n",
              " 'B': 2,\n",
              " 'C': 3,\n",
              " 'D': 4,\n",
              " 'E': 5,\n",
              " 'F': 6,\n",
              " 'G': 7,\n",
              " 'H': 8,\n",
              " 'I': 9}"
            ]
          },
          "execution_count": 19,
          "metadata": {},
          "output_type": "execute_result"
        }
      ],
      "source": [
        "dx_dic"
      ]
    },
    {
      "cell_type": "code",
      "execution_count": null,
      "metadata": {
        "id": "gXksbnaA6ND4"
      },
      "outputs": [],
      "source": [
        "a = HW4DF[HW4DF[\"Index LOL\"] == \"B\"].index[0]"
      ]
    },
    {
      "cell_type": "markdown",
      "metadata": {
        "id": "dlw9_xs56ND5"
      },
      "source": [
        "Hurestic "
      ]
    },
    {
      "cell_type": "code",
      "execution_count": null,
      "metadata": {
        "id": "V2M1Erg26ND6"
      },
      "outputs": [],
      "source": [
        "for j in longey:\n",
        "   b = j[0]\n",
        "   v = j[1]\n",
        "   lk = []\n",
        "   for i in trace_dic:\n",
        "      f = i.count(b)\n",
        "      h = f*trace_dic[i]\n",
        "      lk.append(h)\n",
        "\n",
        "   makhraj = sum(lk) + 1\n",
        "   ans = longey[j] / makhraj\n",
        "   col = dx_dic[v]\n",
        "   row = HW4DF[HW4DF[\"Index LOL\"] == b].index[0]\n",
        "   HW4DF.iloc[row,col] = ans"
      ]
    },
    {
      "cell_type": "code",
      "execution_count": null,
      "metadata": {
        "id": "BZLyfWmy6ND7",
        "outputId": "a7bdb783-c2e8-441e-844f-8eecefb85a09"
      },
      "outputs": [
        {
          "data": {
            "text/plain": [
              "{'AA': 0,\n",
              " 'AB': 160,\n",
              " 'AC': 160,\n",
              " 'AD': 70,\n",
              " 'AE': 160,\n",
              " 'BA': 0,\n",
              " 'BB': 0,\n",
              " 'BC': 160,\n",
              " 'BD': 80,\n",
              " 'BE': 160,\n",
              " 'CA': 0,\n",
              " 'CB': 120,\n",
              " 'CC': 0,\n",
              " 'CD': 80,\n",
              " 'CE': 160,\n",
              " 'DA': 0,\n",
              " 'DB': 80,\n",
              " 'DC': 80,\n",
              " 'DD': 0,\n",
              " 'DE': 70,\n",
              " 'EA': 0,\n",
              " 'EB': 0,\n",
              " 'EC': 0,\n",
              " 'ED': 0,\n",
              " 'EE': 0}"
            ]
          },
          "execution_count": 21,
          "metadata": {},
          "output_type": "execute_result"
        }
      ],
      "source": [
        "longey"
      ]
    },
    {
      "cell_type": "code",
      "execution_count": null,
      "metadata": {
        "id": "xhURdNIL6ND8"
      },
      "outputs": [],
      "source": [
        "HW4DF"
      ]
    },
    {
      "cell_type": "markdown",
      "metadata": {
        "id": "1eu4BtMe6ND8"
      },
      "source": [
        "Flexible Hurestic"
      ]
    },
    {
      "cell_type": "code",
      "execution_count": null,
      "metadata": {
        "id": "_BFU2ccj6ND8"
      },
      "outputs": [],
      "source": [
        "for j in longey:\n",
        "   b = j[0]\n",
        "   v = j[1]\n",
        "   lk = []\n",
        "   kl = []\n",
        "   for i in trace_dic:\n",
        "        f = i.count(b)\n",
        "        h = f*trace_dic[i]\n",
        "        lk.append(h)\n",
        "        u = i.count(v)\n",
        "        c = u*trace_dic[i]\n",
        "        kl.append(c)\n",
        "   makhraj = sum(lk) + sum(kl) + 1\n",
        "   first = (2*longey[j]) / makhraj \n",
        "   second = (2 * abs(sum(lk) - sum(kl))) / makhraj \n",
        "   ans = first - second \n",
        "   print(\"{} and {} = {}\".format(first,second,ans))\n",
        "   col = dx_dic[v] \n",
        "   row = HW4DF[HW4DF[\"Index LOL\"] == b].index[0] \n",
        "   HW4DF.iloc[row,col] = ans "
      ]
    },
    {
      "cell_type": "code",
      "execution_count": null,
      "metadata": {
        "id": "ov4_hltc6ND9",
        "outputId": "516190b4-8d85-4748-dbc6-b0453d8a039e"
      },
      "outputs": [
        {
          "data": {
            "text/html": [
              "<div>\n",
              "<style scoped>\n",
              "    .dataframe tbody tr th:only-of-type {\n",
              "        vertical-align: middle;\n",
              "    }\n",
              "\n",
              "    .dataframe tbody tr th {\n",
              "        vertical-align: top;\n",
              "    }\n",
              "\n",
              "    .dataframe thead th {\n",
              "        text-align: right;\n",
              "    }\n",
              "</style>\n",
              "<table border=\"1\" class=\"dataframe\">\n",
              "  <thead>\n",
              "    <tr style=\"text-align: right;\">\n",
              "      <th></th>\n",
              "      <th>Index LOL</th>\n",
              "      <th>A</th>\n",
              "      <th>B</th>\n",
              "      <th>C</th>\n",
              "      <th>D</th>\n",
              "      <th>E</th>\n",
              "    </tr>\n",
              "  </thead>\n",
              "  <tbody>\n",
              "    <tr>\n",
              "      <th>0</th>\n",
              "      <td>A</td>\n",
              "      <td>0.0</td>\n",
              "      <td>0.399002</td>\n",
              "      <td>0.399002</td>\n",
              "      <td>-0.082988</td>\n",
              "      <td>0.996885</td>\n",
              "    </tr>\n",
              "    <tr>\n",
              "      <th>1</th>\n",
              "      <td>B</td>\n",
              "      <td>-0.399002</td>\n",
              "      <td>0.0</td>\n",
              "      <td>0.665281</td>\n",
              "      <td>-0.498442</td>\n",
              "      <td>0.399002</td>\n",
              "    </tr>\n",
              "    <tr>\n",
              "      <th>2</th>\n",
              "      <td>C</td>\n",
              "      <td>-0.399002</td>\n",
              "      <td>0.49896</td>\n",
              "      <td>0.0</td>\n",
              "      <td>-0.498442</td>\n",
              "      <td>0.399002</td>\n",
              "    </tr>\n",
              "    <tr>\n",
              "      <th>3</th>\n",
              "      <td>D</td>\n",
              "      <td>-0.6639</td>\n",
              "      <td>-0.498442</td>\n",
              "      <td>-0.498442</td>\n",
              "      <td>0.0</td>\n",
              "      <td>-0.082988</td>\n",
              "    </tr>\n",
              "    <tr>\n",
              "      <th>4</th>\n",
              "      <td>E</td>\n",
              "      <td>0.0</td>\n",
              "      <td>-0.399002</td>\n",
              "      <td>-0.399002</td>\n",
              "      <td>-0.6639</td>\n",
              "      <td>0.0</td>\n",
              "    </tr>\n",
              "  </tbody>\n",
              "</table>\n",
              "</div>"
            ],
            "text/plain": [
              "  Index LOL         A         B         C         D         E\n",
              "0         A       0.0  0.399002  0.399002 -0.082988  0.996885\n",
              "1         B -0.399002       0.0  0.665281 -0.498442  0.399002\n",
              "2         C -0.399002   0.49896       0.0 -0.498442  0.399002\n",
              "3         D   -0.6639 -0.498442 -0.498442       0.0 -0.082988\n",
              "4         E       0.0 -0.399002 -0.399002   -0.6639       0.0"
            ]
          },
          "execution_count": 23,
          "metadata": {},
          "output_type": "execute_result"
        }
      ],
      "source": [
        "HW4DF"
      ]
    },
    {
      "cell_type": "markdown",
      "metadata": {
        "id": "u6oNoJhv6ND-"
      },
      "source": [
        "XOR/AND"
      ]
    },
    {
      "cell_type": "code",
      "execution_count": null,
      "metadata": {
        "id": "sW5eYKuO6ND-"
      },
      "outputs": [],
      "source": [
        "first = []\n",
        "second = []\n",
        "third = []\n",
        "fourth = []\n",
        "for i in trace_dic:\n",
        "    b = i.count(\"BC\")\n",
        "    n = i.count(\"CB\")\n",
        "    x = i.count(\"AB\")\n",
        "    m = i.count(\"AC\")\n",
        "    first.append(b*trace_dic[i])\n",
        "    second.append(n*trace_dic[i])\n",
        "    third.append(x*trace_dic[i])\n",
        "    fourth.append(m*trace_dic[i])\n",
        "\n",
        "ans = (sum(first) + sum(second))/(sum(third) + sum(fourth) + 1)"
      ]
    },
    {
      "cell_type": "code",
      "execution_count": null,
      "metadata": {
        "id": "k1lyixkt6ND_"
      },
      "outputs": [],
      "source": [
        "first = []\n",
        "second = []\n",
        "third = []\n",
        "fourth = []\n",
        "for i in trace_dic:\n",
        "    b = i.count(\"DE\")\n",
        "    n = i.count(\"ED\")\n",
        "    x = i.count(\"BD\")\n",
        "    m = i.count(\"BE\")\n",
        "    first.append(b*trace_dic[i])\n",
        "    second.append(n*trace_dic[i])\n",
        "    third.append(x*trace_dic[i])\n",
        "    fourth.append(m*trace_dic[i])\n",
        "\n",
        "ans = (sum(first) + sum(second))/(sum(third) + sum(fourth) + 1)"
      ]
    },
    {
      "cell_type": "code",
      "execution_count": null,
      "metadata": {
        "id": "s4oevlbr6NEA",
        "outputId": "c86875e1-3669-4253-f2b1-166fff06b3f6"
      },
      "outputs": [
        {
          "data": {
            "text/plain": [
              "0.0"
            ]
          },
          "execution_count": 27,
          "metadata": {},
          "output_type": "execute_result"
        }
      ],
      "source": [
        "ans"
      ]
    }
  ],
  "metadata": {
    "colab": {
      "collapsed_sections": [],
      "name": "HW4 (2).ipynb",
      "provenance": []
    },
    "interpreter": {
      "hash": "ad2bdc8ecc057115af97d19610ffacc2b4e99fae6737bb82f5d7fb13d2f2c186"
    },
    "kernelspec": {
      "display_name": "Python 3.9.7 ('base')",
      "language": "python",
      "name": "python3"
    },
    "language_info": {
      "codemirror_mode": {
        "name": "ipython",
        "version": 3
      },
      "file_extension": ".py",
      "mimetype": "text/x-python",
      "name": "python",
      "nbconvert_exporter": "python",
      "pygments_lexer": "ipython3",
      "version": "3.9.7"
    }
  },
  "nbformat": 4,
  "nbformat_minor": 0
}